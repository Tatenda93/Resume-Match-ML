{
 "cells": [
  {
   "cell_type": "code",
   "execution_count": 3,
   "id": "08a57ffe",
   "metadata": {},
   "outputs": [],
   "source": [
    "import pandas as pd\n",
    "\n",
    "# Load your cleaned files\n",
    "resumes_df = pd.read_csv(\"../resources/cleaned_resume_data.csv\")\n",
    "jobs_df = pd.read_csv(\"../resources/cleaned_jd_data.csv\")"
   ]
  },
  {
   "cell_type": "code",
   "execution_count": 4,
   "id": "102ba9e2",
   "metadata": {},
   "outputs": [],
   "source": [
    "# Combine fields for resume and job description\n",
    "resumes_df['resume_text'] = resumes_df['career_objective'].fillna('') + \" \" + resumes_df['skills'].fillna('')\n",
    "jobs_df['job_text'] = jobs_df['job_text'].fillna('')"
   ]
  },
  {
   "cell_type": "code",
   "execution_count": 5,
   "id": "463752c9",
   "metadata": {},
   "outputs": [],
   "source": [
    "import random\n",
    "\n",
    "# Sample a 1:1 ratio of matches and mismatches\n",
    "positive_pairs = []\n",
    "negative_pairs = []\n",
    "\n",
    "for i, resume_row in resumes_df.iterrows():\n",
    "    resume_text = resume_row['resume_text']\n",
    "    \n",
    "    # Try to find a reasonably matched job (e.g. data roles)\n",
    "    for _, job_row in jobs_df.iterrows():\n",
    "        job_text = job_row['job_text']\n",
    "        if any(skill in job_text.lower() for skill in resume_text.lower().split()[:10]):  # crude match\n",
    "            positive_pairs.append((resume_text, job_text, 1.0))\n",
    "            break\n",
    "    \n",
    "    # Random mismatch for negative\n",
    "    random_job = jobs_df.sample(1).iloc[0]\n",
    "    negative_pairs.append((resume_text, random_job['job_text'], 0.0))"
   ]
  },
  {
   "cell_type": "code",
   "execution_count": 6,
   "id": "045b57cb",
   "metadata": {},
   "outputs": [],
   "source": [
    "import random\n",
    "\n",
    "pairs = positive_pairs + negative_pairs\n",
    "random.shuffle(pairs)\n",
    "\n",
    "df_labeled = pd.DataFrame(pairs, columns=['resume_text', 'job_text', 'label'])"
   ]
  },
  {
   "cell_type": "code",
   "execution_count": 8,
   "id": "3b0469ee",
   "metadata": {},
   "outputs": [],
   "source": [
    "df_labeled.to_csv(\"../resources/labeled_resume_job_pairs.csv\", index=False)"
   ]
  }
 ],
 "metadata": {
  "kernelspec": {
   "display_name": "dev",
   "language": "python",
   "name": "python3"
  },
  "language_info": {
   "codemirror_mode": {
    "name": "ipython",
    "version": 3
   },
   "file_extension": ".py",
   "mimetype": "text/x-python",
   "name": "python",
   "nbconvert_exporter": "python",
   "pygments_lexer": "ipython3",
   "version": "3.10.13"
  }
 },
 "nbformat": 4,
 "nbformat_minor": 5
}
